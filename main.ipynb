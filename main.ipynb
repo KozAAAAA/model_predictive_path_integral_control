{
 "cells": [
  {
   "cell_type": "markdown",
   "metadata": {},
   "source": [
    "W ramach zajęć zapoznamy się z podstawowymi próbkującymi metodami sterowania. Istot-\n",
    "nym elementem tych metod jest model który pozwala na ocenę sekwencji akcji przed ich\n",
    "podaniem na elementy wykonawcze robota. Funkcją określającą skuteczność naszego algo-\n",
    "rytmu jest funkcja nagrody ”reward” który jest zdefiniowana wewnątrz zaproponowanych\n",
    "środowisk. Celem algorytmu sterującego jest jego maksymalizacja.\n",
    "1 Wahadło\n",
    "1. Zapoznaj się z środowiskiem Pendulum będzie ono podstawą do przetesowania kolej-\n",
    "nych metod sterowania.\n",
    "2. Spróbuj ustawić stan początkowy środowiska na zadaną wartość, np. [3.14, 0.0].\n",
    "3. Zrealizuj sterownik PD w celu stabilizacji wahadła w konfiguracji pionowej skierowanej\n",
    "w górę, zakładając że stan początkowy to [0.1, 0.5] następnie przetestuj czy możliwe\n",
    "jest podniesienie wahadła ze stanu początkowego [3.1, 0.]\n",
    "4. Prawdopodobnie było to niemożliwe, napisz sterownik który najpierw steruje energią\n",
    "do zadanego poziomu a potem przełącza się na PD w okolicy góry. Pomocna może się\n",
    "okazać praca.\n",
    "5. Pomimo, że zadanie nie jest przesadnie skomplikowane to jego rozwiązanie wyma-\n",
    "gało wykorzystania dwóch regulatorów, z czego jednego dość specyficznego. Nie jest\n",
    "też oczywiste jak zaproponowane podejście ma się do funkcji nagrody zwracanej przez\n",
    "środowisko. Spróbujmy podejść do tego problemu w inny, bardziej ogólny sposób. Spró-\n",
    "bujemy napisać najprostszy algorytm oparty o model próbkujący przestrzeń sterowań,\n",
    "którego zadaniem będzie maksymalizacja nagrody. Jego działanie można przedstawić\n",
    "w postaci programu:\n",
    "• ustaw aktualny stan jako stan początkowy, wygeneruj losową sekwencje sterowań\n",
    "o zadanej długości\n",
    "• wykorzystując metodę step środowiska oceń skumulowaną nagrodę całej trajek-\n",
    "torii symulowanych stanów i sterowań\n",
    "1\n",
    "• powtarzaj n-razy krok 1, 2\n",
    "• zwróć pierwszą akcje sekwencji o największej nagrodzie\n",
    "6. Dla opracowanego algorytmy przygotuj wykres [heatmap] pokazujący skumulowaną\n",
    "nagrodą dla całego epizodu dla różnych wartości ilości rolloutów: n oraz ich długości.\n",
    "7. To była prawdopodobnie najbardziej toporna metoda sterowania próbkującego opar-\n",
    "tego o model jaką można sobie wyobrazić. W dalszej części zajęć zmodyfikujemy ją\n",
    "trochę, tak aby otrzymać algorytm MPPI i uzyskać lepszą jakość sterowania.\n",
    "Poniżej przedstawiony jest algorytm pojedynczego wywołania algorytmu sterowania\n",
    "MPPI. W naszym zastosowaniu, aby nie tracić cennych obliczeń, będziemy przecho-\n",
    "wywać sekwencję sterowań u∗ i podawać ją jako początkową sekwencję sterowań u0 do\n",
    "Algorytmu 1. Podnato, aby wziąć pod uwagę upływ czasu, przesuniemy sterowania w\n",
    "podanej sekwencji o jedną próbkę, pomijając pierwszą i dodając na końcu sekwencji\n",
    "zera.\n",
    "Algorithm 1 Model Predictive Path Integral (MPPI) Control\n",
    "1: Input: Aktualny stan x0, początkowa sekwencja sterowań u0, liczba trajektorii N , ho-\n",
    "ryzont symulacji T , funkcja kosztu C, dynamika systemu f , kowariancja szumu Σ, mi-\n",
    "nimalne i maksymalne dopuszczalne sterowania u, ¯u, temperatura λ\n",
    "2: Output: Optymalna sekwencja sterowań u∗\n",
    "3: for iteration k = 1, 2, . . . do\n",
    "4: for each trajectory n = 1, 2, . . . , N do\n",
    "5: Wylosuj perturbacje sterowań δun ∼ N (0, Σ)\n",
    "6: Wygeneruj zaburzone sekwencje sterowań: un = uk + δun\n",
    "7: Ogranicz zaburzone sterowania do dopuszczalnych zakresów ¯un = clamp(un, u, ¯u)\n",
    "8: Oblicz efektywne zaburzenia ∆un = ¯un − uk\n",
    "9: Wysymuluj trajektorię xn od stanu początkowego x0, używając dynamiki f i stero-\n",
    "wań un\n",
    "10: Oblicz koszt trajektorii Sn = ∑T −1\n",
    "t=0 C(xn\n",
    "t , un\n",
    "t )\n",
    "11: end for\n",
    "12: Oblicz wagi wn = exp(−Sn/λ)\n",
    "13: Znormalizuj wagi: ˜wn = wn\n",
    "∑N\n",
    "m=1 wm\n",
    "14: Zmodyfikuj sekwencję sterowań: uk+1 = uk + ∑N\n",
    "n=1 ˜wn∆un\n",
    "15: end for\n",
    "16: Return: u∗ = uk\n",
    "8. Spróbuj wprowadzić zaburzenia do modelu i oceń odporność algorytmu na błędy mo-\n",
    "delu.\n",
    "9. Zmień środowisko z Pendulum na Hopper i zaobserwuj ogólność algorytmu MPPI.\n",
    "Spróbuj zaimplementować MPPI tak, aby bez problemu można było podmienić środo-\n",
    "wisko na inne."
   ]
  },
  {
   "cell_type": "code",
   "execution_count": 8,
   "metadata": {},
   "outputs": [
    {
     "name": "stdout",
     "output_type": "stream",
     "text": [
      "The autoreload extension is already loaded. To reload it, use:\n",
      "  %reload_ext autoreload\n"
     ]
    }
   ],
   "source": [
    "%load_ext autoreload\n",
    "%autoreload 2\n",
    "\n",
    "import gymnasium as gym\n",
    "import numpy as np\n",
    "from IPython import display\n",
    "import matplotlib.pyplot as plt\n",
    "\n",
    "from pid import PID\n",
    "from energy import Energy\n",
    "from random_sampling_optimization import RandomSamplingOptimization\n",
    "\n",
    "\n",
    "def display_gym(env):\n",
    "    plt.figure(1)\n",
    "    plt.clf()\n",
    "    plt.imshow(env.render())\n",
    "    plt.axis(\"off\")\n",
    "    display.display(plt.gcf())\n",
    "    display.clear_output(wait=True)"
   ]
  },
  {
   "cell_type": "markdown",
   "metadata": {},
   "source": [
    "### 1., 2. Pendulum"
   ]
  },
  {
   "cell_type": "code",
   "execution_count": 9,
   "metadata": {},
   "outputs": [
    {
     "data": {
      "image/png": "[encoded data removed]",
      "text/plain": [
       "<Figure size 640x480 with 1 Axes>"
      ]
     },
     "metadata": {},
     "output_type": "display_data"
    }
   ],
   "source": [
    "env = gym.make(\"Pendulum-v1\", render_mode=\"rgb_array\", g=9.81)\n",
    "env.reset()\n",
    "env.unwrapped.state = np.array([np.pi, 0.0])\n",
    "\n",
    "for _ in range(100):\n",
    "    display_gym(env)\n",
    "    action = np.array([1.0])\n",
    "    observation, reward, terminated, truncated, info = env.step(action)\n",
    "env.close()"
   ]
  },
  {
   "cell_type": "markdown",
   "metadata": {},
   "source": [
    "### 3. PID Controller"
   ]
  },
  {
   "cell_type": "code",
   "execution_count": 10,
   "metadata": {},
   "outputs": [
    {
     "data": {
      "image/png": "[encoded data removed]",
      "text/plain": [
       "<Figure size 640x480 with 1 Axes>"
      ]
     },
     "metadata": {},
     "output_type": "display_data"
    }
   ],
   "source": [
    "env = gym.make(\"Pendulum-v1\", render_mode=\"rgb_array\", g=9.81)\n",
    "env.reset()\n",
    "env.unwrapped.state = np.array([0.1, 0.5])\n",
    "pid = PID(\n",
    "    kp=8.0,\n",
    "    kd=1.0,\n",
    "    setpoint=0.0,\n",
    "    dt=env.unwrapped.dt,\n",
    ")\n",
    "\n",
    "for _ in range(200):\n",
    "    display_gym(env)\n",
    "    theta = env.unwrapped.state[0]\n",
    "    theta = np.arctan2(np.sin(theta), np.cos(theta))\n",
    "\n",
    "    u = pid.update(theta)\n",
    "    observation, reward, terminated, truncated, info = env.step(np.array([u]))\n",
    "env.close()"
   ]
  },
  {
   "cell_type": "markdown",
   "metadata": {},
   "source": [
    "### 4. PID with Energy Controller"
   ]
  },
  {
   "cell_type": "code",
   "execution_count": 11,
   "metadata": {},
   "outputs": [
    {
     "data": {
      "image/png": "[encoded data removed]",
      "text/plain": [
       "<Figure size 640x480 with 1 Axes>"
      ]
     },
     "metadata": {},
     "output_type": "display_data"
    }
   ],
   "source": [
    "env = gym.make(\"Pendulum-v1\", render_mode=\"rgb_array\", g=9.81)\n",
    "env.reset()\n",
    "env.unwrapped.state = np.array([np.pi, 0.0])\n",
    "\n",
    "dt = env.unwrapped.dt\n",
    "m = env.unwrapped.m\n",
    "l = env.unwrapped.l\n",
    "g = env.unwrapped.g\n",
    "\n",
    "PID_THRESHOLD = np.pi / 8\n",
    "\n",
    "pid = PID(kp=8.0, kd=1.0, setpoint=0.0, dt=dt)\n",
    "energy = Energy(k=2, m=m, g=g, l=l)\n",
    "\n",
    "for _ in range(200):\n",
    "    display_gym(env)\n",
    "\n",
    "    theta = env.unwrapped.state[0]\n",
    "    dtheta = env.unwrapped.state[1]\n",
    "\n",
    "    theta = np.arctan2(np.sin(theta), np.cos(theta))  # [-pi, pi]\n",
    "\n",
    "    if abs(theta) < PID_THRESHOLD:\n",
    "        u = pid.update(theta)\n",
    "    else:\n",
    "        u = energy.update(theta, dtheta)\n",
    "\n",
    "    observation, reward, terminated, truncated, info = env.step(np.array([u]))\n",
    "\n",
    "env.close()"
   ]
  },
  {
   "cell_type": "markdown",
   "metadata": {},
   "source": [
    "### 5. Random Sampling Optimization"
   ]
  },
  {
   "cell_type": "code",
   "execution_count": 49,
   "metadata": {},
   "outputs": [
    {
     "data": {
      "image/png": "[encoded data removed]",
      "text/plain": [
       "<Figure size 640x480 with 1 Axes>"
      ]
     },
     "metadata": {},
     "output_type": "display_data"
    }
   ],
   "source": [
    "env = gym.make(\"Pendulum-v1\", render_mode=\"rgb_array\", g=9.81)\n",
    "\n",
    "x0 = np.array([0.0, 0.0])\n",
    "rso = RandomSamplingOptimization(\n",
    "    x0=x0,\n",
    "    n_iter=2000,\n",
    "    n_actions=100,\n",
    "    env=env,\n",
    ")\n",
    "actions = rso.optimize()\n",
    "\n",
    "env.reset()\n",
    "env.unwrapped.state = x0\n",
    "for action in actions:\n",
    "    display_gym(env)\n",
    "    observation, reward, terminated, truncated, info = env.step(np.array([action]))\n",
    "env.close()"
   ]
  }
 ],
 "metadata": {
  "kernelspec": {
   "display_name": "venv",
   "language": "python",
   "name": "python3"
  },
  "language_info": {
   "codemirror_mode": {
    "name": "ipython",
    "version": 3
   },
   "file_extension": ".py",
   "mimetype": "text/x-python",
   "name": "python",
   "nbconvert_exporter": "python",
   "pygments_lexer": "ipython3",
   "version": "3.10.12"
  }
 },
 "nbformat": 4,
 "nbformat_minor": 2
}
