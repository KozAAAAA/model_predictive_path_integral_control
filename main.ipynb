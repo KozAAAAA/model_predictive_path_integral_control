{
 "cells": [
  {
   "cell_type": "markdown",
   "metadata": {},
   "source": [
    "W ramach zajęć zapoznamy się z podstawowymi próbkującymi metodami sterowania. Istot-\n",
    "nym elementem tych metod jest model który pozwala na ocenę sekwencji akcji przed ich\n",
    "podaniem na elementy wykonawcze robota. Funkcją określającą skuteczność naszego algo-\n",
    "rytmu jest funkcja nagrody ”reward” który jest zdefiniowana wewnątrz zaproponowanych\n",
    "środowisk. Celem algorytmu sterującego jest jego maksymalizacja.\n",
    "1 Wahadło\n",
    "1. Zapoznaj się z środowiskiem Pendulum będzie ono podstawą do przetesowania kolej-\n",
    "nych metod sterowania.\n",
    "2. Spróbuj ustawić stan początkowy środowiska na zadaną wartość, np. [3.14, 0.0].\n",
    "3. Zrealizuj sterownik PD w celu stabilizacji wahadła w konfiguracji pionowej skierowanej\n",
    "w górę, zakładając że stan początkowy to [0.1, 0.5] następnie przetestuj czy możliwe\n",
    "jest podniesienie wahadła ze stanu początkowego [3.1, 0.]\n",
    "4. Prawdopodobnie było to niemożliwe, napisz sterownik który najpierw steruje energią\n",
    "do zadanego poziomu a potem przełącza się na PD w okolicy góry. Pomocna może się\n",
    "okazać praca.\n",
    "5. Pomimo, że zadanie nie jest przesadnie skomplikowane to jego rozwiązanie wyma-\n",
    "gało wykorzystania dwóch regulatorów, z czego jednego dość specyficznego. Nie jest\n",
    "też oczywiste jak zaproponowane podejście ma się do funkcji nagrody zwracanej przez\n",
    "środowisko. Spróbujmy podejść do tego problemu w inny, bardziej ogólny sposób. Spró-\n",
    "bujemy napisać najprostszy algorytm oparty o model próbkujący przestrzeń sterowań,\n",
    "którego zadaniem będzie maksymalizacja nagrody. Jego działanie można przedstawić\n",
    "w postaci programu:\n",
    "• ustaw aktualny stan jako stan początkowy, wygeneruj losową sekwencje sterowań\n",
    "o zadanej długości\n",
    "• wykorzystując metodę step środowiska oceń skumulowaną nagrodę całej trajek-\n",
    "torii symulowanych stanów i sterowań\n",
    "1\n",
    "• powtarzaj n-razy krok 1, 2\n",
    "• zwróć pierwszą akcje sekwencji o największej nagrodzie\n",
    "6. Dla opracowanego algorytmy przygotuj wykres [heatmap] pokazujący skumulowaną\n",
    "nagrodą dla całego epizodu dla różnych wartości ilości rolloutów: n oraz ich długości.\n",
    "7. To była prawdopodobnie najbardziej toporna metoda sterowania próbkującego opar-\n",
    "tego o model jaką można sobie wyobrazić. W dalszej części zajęć zmodyfikujemy ją\n",
    "trochę, tak aby otrzymać algorytm MPPI i uzyskać lepszą jakość sterowania.\n",
    "Poniżej przedstawiony jest algorytm pojedynczego wywołania algorytmu sterowania\n",
    "MPPI. W naszym zastosowaniu, aby nie tracić cennych obliczeń, będziemy przecho-\n",
    "wywać sekwencję sterowań u∗ i podawać ją jako początkową sekwencję sterowań u0 do\n",
    "Algorytmu 1. Podnato, aby wziąć pod uwagę upływ czasu, przesuniemy sterowania w\n",
    "podanej sekwencji o jedną próbkę, pomijając pierwszą i dodając na końcu sekwencji\n",
    "zera.\n",
    "Algorithm 1 Model Predictive Path Integral (MPPI) Control\n",
    "1: Input: Aktualny stan x0, początkowa sekwencja sterowań u0, liczba trajektorii N , ho-\n",
    "ryzont symulacji T , funkcja kosztu C, dynamika systemu f , kowariancja szumu Σ, mi-\n",
    "nimalne i maksymalne dopuszczalne sterowania u, ¯u, temperatura λ\n",
    "2: Output: Optymalna sekwencja sterowań u∗\n",
    "3: for iteration k = 1, 2, . . . do\n",
    "4: for each trajectory n = 1, 2, . . . , N do\n",
    "5: Wylosuj perturbacje sterowań δun ∼ N (0, Σ)\n",
    "6: Wygeneruj zaburzone sekwencje sterowań: un = uk + δun\n",
    "7: Ogranicz zaburzone sterowania do dopuszczalnych zakresów ¯un = clamp(un, u, ¯u)\n",
    "8: Oblicz efektywne zaburzenia ∆un = ¯un − uk\n",
    "9: Wysymuluj trajektorię xn od stanu początkowego x0, używając dynamiki f i stero-\n",
    "wań un\n",
    "10: Oblicz koszt trajektorii Sn = ∑T −1\n",
    "t=0 C(xn\n",
    "t , un\n",
    "t )\n",
    "11: end for\n",
    "12: Oblicz wagi wn = exp(−Sn/λ)\n",
    "13: Znormalizuj wagi: ˜wn = wn\n",
    "∑N\n",
    "m=1 wm\n",
    "14: Zmodyfikuj sekwencję sterowań: uk+1 = uk + ∑N\n",
    "n=1 ˜wn∆un\n",
    "15: end for\n",
    "16: Return: u∗ = uk\n",
    "8. Spróbuj wprowadzić zaburzenia do modelu i oceń odporność algorytmu na błędy mo-\n",
    "delu.\n",
    "9. Zmień środowisko z Pendulum na Hopper i zaobserwuj ogólność algorytmu MPPI.\n",
    "Spróbuj zaimplementować MPPI tak, aby bez problemu można było podmienić środo-\n",
    "wisko na inne."
   ]
  },
  {
   "cell_type": "code",
   "execution_count": 22,
   "metadata": {},
   "outputs": [],
   "source": [
    "import gymnasium as gym\n",
    "from IPython import display\n",
    "import matplotlib.pyplot as plt"
   ]
  },
  {
   "cell_type": "code",
   "execution_count": 39,
   "metadata": {},
   "outputs": [],
   "source": [
    "def display_gym(env):\n",
    "    plt.figure(1)\n",
    "    plt.clf()\n",
    "    plt.imshow(env.render())\n",
    "    plt.axis('off')\n",
    "\n",
    "    display.display(plt.gcf())\n",
    "    display.clear_output(wait=True)"
   ]
  },
  {
   "cell_type": "code",
   "execution_count": 40,
   "metadata": {},
   "outputs": [
    {
     "data": {
      "image/png": "[encoded data removed]",
      "text/plain": [
       "<Figure size 640x480 with 1 Axes>"
      ]
     },
     "metadata": {},
     "output_type": "display_data"
    }
   ],
   "source": [
    "env = gym.make('Pendulum-v1', render_mode=\"rgb_array\", g=9.81)\n",
    "env.reset(seed=123, options={\"low\": 0.0, \"high\": 0.0})\n",
    "\n",
    "for _ in range(100):\n",
    "    display_gym(env)\n",
    "    action = env.action_space.sample()\n",
    "    env.step(action)"
   ]
  }
 ],
 "metadata": {
  "kernelspec": {
   "display_name": "venv",
   "language": "python",
   "name": "python3"
  },
  "language_info": {
   "codemirror_mode": {
    "name": "ipython",
    "version": 3
   },
   "file_extension": ".py",
   "mimetype": "text/x-python",
   "name": "python",
   "nbconvert_exporter": "python",
   "pygments_lexer": "ipython3",
   "version": "3.10.12"
  }
 },
 "nbformat": 4,
 "nbformat_minor": 2
}
